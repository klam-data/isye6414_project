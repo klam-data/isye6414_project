{
 "cells": [
  {
   "cell_type": "code",
   "execution_count": null,
   "id": "aeb96143-10ec-47a3-b609-b12cc11d4c71",
   "metadata": {},
   "outputs": [],
   "source": [
    "import pyodbc\n",
    "import pandas as pd\n",
    "from functools import reduce\n",
    "import urllib\n",
    "from sqlalchemy import create_engine\n",
    "\n",
    "conn_str = (\n",
    "    r\"DRIVER={Microsoft Access Driver (*.mdb, *.accdb)};\"\n",
    "    r\"DBQ=C:\\Users\\Mo-B\\ISYE_6414_Regression\\Project\\IPEDS202223.accdb;\"\n",
    ")\n",
    "\n",
    "quoted = urllib.parse.quote_plus(conn_str)\n",
    "engine = create_engine(f\"access+pyodbc:///?odbc_connect={quoted}\")\n",
    "\n",
    "table_cols = {\n",
    "    \"IC2022_AY\":   [\"TUITION1\", \"TUITION2\", \"TUITION3\", \"CHG4AY0\", \"CHG4AY1\", \"CHG4AY2\", \"CHG4AY3\"],\n",
    "    \"HD2022\":      [\"CONTROL\", \"ICLEVEL\", \"SECTOR\", \"LOCALE\"],\n",
    "    \"SFA2122_P1\":  [\"LOAN_A\", \"FLOAN_A\", \"OLOAN_A\", \"AGRNT_A\", \"PGRNT_A\"],\n",
    "    \"SFA2122_P2\":  [\"NPIST0\", \"NPIST1\", \"NPIST2\", \"NPIS412\", \"NPIS422\", \"NPIS432\", \"NPIS442\", \"NPIS452\"],\n",
    "    \"IC2022_PY\":   [\"CIPCODE2\", \"CIPCODE3\", \"CIPTUIT2\", \"CIPTUIT3\"],\n",
    "}\n",
    "\n",
    "# Pull each table into a DataFrame\n",
    "dfs = []\n",
    "for tbl, cols in table_cols.items():\n",
    "    all_cols = [\"[UNITID]\"] + [f\"[{c}]\" for c in cols]\n",
    "    sql = f\"SELECT {', '.join(all_cols)} FROM [{tbl}]\"\n",
    "    df = pd.read_sql_query(sql, engine)\n",
    "    dfs.append(df)\n",
    "\n",
    "#Merge everything on UNITID. Used outer so we don’t lose any schools\n",
    "merged = reduce(lambda a, b: pd.merge(a, b, on=\"UNITID\", how=\"outer\"), dfs)\n",
    "\n",
    "out_path = r\"selected_socioeconomic_factors.csv\"\n",
    "merged.to_csv(out_path, index=False)\n",
    "print(f\"Wrote combined data to {out_path}\")\n"
   ]
  }
 ],
 "metadata": {
  "kernelspec": {
   "display_name": "Python 3 (ipykernel)",
   "language": "python",
   "name": "python3"
  },
  "language_info": {
   "codemirror_mode": {
    "name": "ipython",
    "version": 3
   },
   "file_extension": ".py",
   "mimetype": "text/x-python",
   "name": "python",
   "nbconvert_exporter": "python",
   "pygments_lexer": "ipython3",
   "version": "3.11.7"
  }
 },
 "nbformat": 4,
 "nbformat_minor": 5
}
